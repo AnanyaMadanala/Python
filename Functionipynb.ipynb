{
  "nbformat": 4,
  "nbformat_minor": 0,
  "metadata": {
    "colab": {
      "provenance": [],
      "authorship_tag": "ABX9TyMZwRXvfLyqQ+1+ruXpZtpw",
      "include_colab_link": true
    },
    "kernelspec": {
      "name": "python3",
      "display_name": "Python 3"
    },
    "language_info": {
      "name": "python"
    }
  },
  "cells": [
    {
      "cell_type": "markdown",
      "metadata": {
        "id": "view-in-github",
        "colab_type": "text"
      },
      "source": [
        "<a href=\"https://colab.research.google.com/github/AnanyaMadanala/Python/blob/main/Functionipynb.ipynb\" target=\"_parent\"><img src=\"https://colab.research.google.com/assets/colab-badge.svg\" alt=\"Open In Colab\"/></a>"
      ]
    },
    {
      "cell_type": "code",
      "execution_count": null,
      "metadata": {
        "colab": {
          "base_uri": "https://localhost:8080/"
        },
        "id": "yWxyqFDU016g",
        "outputId": "fe36d6e7-4f9d-48da-b445-c341a0dc3b50"
      },
      "outputs": [
        {
          "output_type": "stream",
          "name": "stdout",
          "text": [
            "Hello this is function\n"
          ]
        }
      ],
      "source": [
        "#create a function\n",
        "def my_function():\n",
        "  print(\"Hello this is function\")\n",
        "my_function()"
      ]
    },
    {
      "cell_type": "code",
      "source": [
        "#arguments\n",
        "def my_function(fname):\n",
        "  print(fname+ \" Kaur \" )\n",
        "my_function(\"Anamya\")"
      ],
      "metadata": {
        "colab": {
          "base_uri": "https://localhost:8080/"
        },
        "id": "lAOHGwK-3CUG",
        "outputId": "61011a82-d89e-4a0b-f5fb-b1f18561aa6c"
      },
      "execution_count": null,
      "outputs": [
        {
          "output_type": "stream",
          "name": "stdout",
          "text": [
            "Anamya Kaur \n"
          ]
        }
      ]
    },
    {
      "cell_type": "code",
      "source": [
        "#default argument\n",
        "def my_function(cricketer=\"Virat Kohli\"):\n",
        "  print(\"I like cricketer \"+ cricketer)\n",
        "my_function(\"Rohit Sharma\")\n",
        "my_function()"
      ],
      "metadata": {
        "colab": {
          "base_uri": "https://localhost:8080/"
        },
        "id": "vH6H8evP3gBI",
        "outputId": "f81e0c6f-ef84-4cd2-826b-b13e193f3306"
      },
      "execution_count": null,
      "outputs": [
        {
          "output_type": "stream",
          "name": "stdout",
          "text": [
            "I like cricketer Rohit Sharma\n",
            "I like cricketer Virat Kohli\n"
          ]
        }
      ]
    },
    {
      "cell_type": "code",
      "source": [
        "#keyword argument\n",
        "def my_function(cricketer1,cricketer2,cricketer3):\n",
        "  print(\"The cricketer are\" +\",\"+ cricketer1 +\",\"+ cricketer2 +\",\"+ cricketer3)\n",
        "my_function(cricketer1=  \" Virat Kohli \",\n",
        "            cricketer2= \" Rohit Sharma \",\n",
        "            cricketer3= \" Shubhman Gill \")"
      ],
      "metadata": {
        "colab": {
          "base_uri": "https://localhost:8080/"
        },
        "id": "bBdOe1ig4Dm_",
        "outputId": "09d02d9e-f032-4f3d-8d01-b15f29a8e24c"
      },
      "execution_count": null,
      "outputs": [
        {
          "output_type": "stream",
          "name": "stdout",
          "text": [
            "The cricketer are, Virat Kohli , Rohit Sharma , Shubhman Gill \n"
          ]
        }
      ]
    },
    {
      "cell_type": "code",
      "source": [
        "#arbitrary arguments\n",
        "def my_function(*cricketer):\n",
        "  print(\"The Bestest Baller is \" + cricketer[2])\n",
        "my_function(\"Mohammad Siraj\", \"Hardik Pandya\", \"Jasprit Bumrah\")"
      ],
      "metadata": {
        "colab": {
          "base_uri": "https://localhost:8080/"
        },
        "id": "AZdpGMwz5OPC",
        "outputId": "c0190ef3-d62b-477a-ca89-4fc0439b1026"
      },
      "execution_count": null,
      "outputs": [
        {
          "output_type": "stream",
          "name": "stdout",
          "text": [
            "The Bestest Baller is Jasprit Bumrah\n"
          ]
        }
      ]
    },
    {
      "cell_type": "code",
      "source": [
        "#positional nd keyword only\n",
        "def my_function(jersey1, jersey2, jersey3, /, *, jersey4):\n",
        "  print(jersey1+ jersey2+ jersey3+ jersey4)\n",
        "my_function(18, 45, 77, jersey4=93)"
      ],
      "metadata": {
        "colab": {
          "base_uri": "https://localhost:8080/"
        },
        "id": "eqLOQ2ky8dTx",
        "outputId": "1ae52175-d3f5-4086-d148-8741d97c52dc"
      },
      "execution_count": null,
      "outputs": [
        {
          "output_type": "stream",
          "name": "stdout",
          "text": [
            "233\n"
          ]
        }
      ]
    },
    {
      "cell_type": "code",
      "source": [
        "#recursion\n",
        "def tri_recursion(k):\n",
        "  if(k > 0):\n",
        "    result = k + tri_recursion(k - 1)\n",
        "    print(result)\n",
        "  else:\n",
        "    result = 0\n",
        "  return result\n",
        "print(\"Recursion Example Results:\")\n",
        "tri_recursion(6)"
      ],
      "metadata": {
        "colab": {
          "base_uri": "https://localhost:8080/"
        },
        "id": "ruZqqC5v_PPr",
        "outputId": "b930eb66-30eb-4a55-cebf-e038b802cc88"
      },
      "execution_count": null,
      "outputs": [
        {
          "output_type": "stream",
          "name": "stdout",
          "text": [
            "Recursion Example Results:\n",
            "1\n",
            "3\n",
            "6\n",
            "10\n",
            "15\n",
            "21\n"
          ]
        },
        {
          "output_type": "execute_result",
          "data": {
            "text/plain": [
              "21"
            ]
          },
          "metadata": {},
          "execution_count": 22
        }
      ]
    },
    {
      "cell_type": "code",
      "source": [
        "#WAP of addition nd subtraction\n",
        "def calculation(a,b):\n",
        "  print(a+b)\n",
        "  print(a-b)\n",
        "res=calculation(40,10)\n",
        "print(res)"
      ],
      "metadata": {
        "colab": {
          "base_uri": "https://localhost:8080/"
        },
        "id": "9mtNftyx_02C",
        "outputId": "4fadc3d5-5249-468e-faee-804677212361"
      },
      "execution_count": null,
      "outputs": [
        {
          "output_type": "stream",
          "name": "stdout",
          "text": [
            "50\n",
            "30\n",
            "None\n"
          ]
        }
      ]
    },
    {
      "cell_type": "code",
      "source": [
        "#Find largest item from a given list\n",
        "x=[4,6,8,10,12,14]\n",
        "print(max(x))"
      ],
      "metadata": {
        "colab": {
          "base_uri": "https://localhost:8080/"
        },
        "id": "zbko5V_FBuLu",
        "outputId": "dbf4a545-5f64-414d-af14-f86074207cca"
      },
      "execution_count": null,
      "outputs": [
        {
          "output_type": "stream",
          "name": "stdout",
          "text": [
            "14\n"
          ]
        }
      ]
    },
    {
      "cell_type": "code",
      "source": [
        "#Assign a different name to function and call it through the new name\n",
        "def my_function(name,age):\n",
        "  print(name,age)\n",
        "my_function(\"Anamya\",20)\n",
        "showdata=my_function\n",
        "showdata(\"Anamya\",20)"
      ],
      "metadata": {
        "id": "Nwr0Ad4oFVaE",
        "colab": {
          "base_uri": "https://localhost:8080/"
        },
        "outputId": "0523744a-ee11-4c61-b24e-558328bda7ba"
      },
      "execution_count": 5,
      "outputs": [
        {
          "output_type": "stream",
          "name": "stdout",
          "text": [
            "Anamya 20\n",
            "Anamya 20\n"
          ]
        }
      ]
    },
    {
      "cell_type": "code",
      "source": [
        "#WAP to calculate area of circle\n",
        "import math\n",
        "def area_of_circle(radius):\n",
        "    return math.pi * radius ** 2\n",
        "print(area_of_circle(5))"
      ],
      "metadata": {
        "colab": {
          "base_uri": "https://localhost:8080/"
        },
        "id": "KfB_Q9lK75vr",
        "outputId": "6617ba09-0438-4f97-8ed4-dd4473e3fd8a"
      },
      "execution_count": 6,
      "outputs": [
        {
          "output_type": "stream",
          "name": "stdout",
          "text": [
            "78.53981633974483\n"
          ]
        }
      ]
    },
    {
      "cell_type": "code",
      "source": [
        "#WAP of odd even\n",
        "def is_even(number):\n",
        "    return number % 2 == 0\n",
        "print(is_even(10))\n",
        "print(is_even(15))"
      ],
      "metadata": {
        "colab": {
          "base_uri": "https://localhost:8080/"
        },
        "id": "Bd1kFPns9_qa",
        "outputId": "77f79668-30bd-46ad-9116-58d854298f82"
      },
      "execution_count": 7,
      "outputs": [
        {
          "output_type": "stream",
          "name": "stdout",
          "text": [
            "True\n",
            "False\n"
          ]
        }
      ]
    },
    {
      "cell_type": "code",
      "source": [
        "#WAP of factorial of no\n",
        "def factorial(n):\n",
        "    if n == 0 or n == 1:\n",
        "        return 1\n",
        "    return n * factorial(n - 1)\n",
        "print(factorial(5))"
      ],
      "metadata": {
        "colab": {
          "base_uri": "https://localhost:8080/"
        },
        "id": "5fpnFel5-Qsi",
        "outputId": "013def55-9cf5-448b-af0a-09ad264fd1e2"
      },
      "execution_count": 8,
      "outputs": [
        {
          "output_type": "stream",
          "name": "stdout",
          "text": [
            "120\n"
          ]
        }
      ]
    }
  ]
}