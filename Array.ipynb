{
  "nbformat": 4,
  "nbformat_minor": 0,
  "metadata": {
    "colab": {
      "provenance": [],
      "authorship_tag": "ABX9TyOKsvYIQUfk4clRxn72MTR1",
      "include_colab_link": true
    },
    "kernelspec": {
      "name": "python3",
      "display_name": "Python 3"
    },
    "language_info": {
      "name": "python"
    }
  },
  "cells": [
    {
      "cell_type": "markdown",
      "metadata": {
        "id": "view-in-github",
        "colab_type": "text"
      },
      "source": [
        "<a href=\"https://colab.research.google.com/github/AnanyaMadanala/Python/blob/main/Array.ipynb\" target=\"_parent\"><img src=\"https://colab.research.google.com/assets/colab-badge.svg\" alt=\"Open In Colab\"/></a>"
      ]
    },
    {
      "cell_type": "code",
      "execution_count": 1,
      "metadata": {
        "colab": {
          "base_uri": "https://localhost:8080/"
        },
        "id": "EFOEyF_eId_2",
        "outputId": "4cb9de81-2760-44c5-9b2e-8a3acce5ff4c"
      },
      "outputs": [
        {
          "output_type": "stream",
          "name": "stdout",
          "text": [
            "array('i', [1, 2, 3, 4, 5])\n"
          ]
        }
      ],
      "source": [
        "#creating array\n",
        "import array\n",
        "my_array = array.array('i', [1, 2, 3, 4, 5])\n",
        "print(my_array)"
      ]
    },
    {
      "cell_type": "code",
      "source": [
        "#acess and modify array\n",
        "print(my_array[1])\n",
        "my_array[1] = 20\n",
        "print(my_array)"
      ],
      "metadata": {
        "colab": {
          "base_uri": "https://localhost:8080/"
        },
        "id": "atCAg1U-JyVJ",
        "outputId": "1f81e145-d62d-4753-aaa1-656668474195"
      },
      "execution_count": 2,
      "outputs": [
        {
          "output_type": "stream",
          "name": "stdout",
          "text": [
            "2\n",
            "array('i', [1, 20, 3, 4, 5])\n"
          ]
        }
      ]
    },
    {
      "cell_type": "code",
      "source": [
        "#append method\n",
        "my_array.append(6)\n",
        "print(my_array)"
      ],
      "metadata": {
        "colab": {
          "base_uri": "https://localhost:8080/"
        },
        "id": "vH2Spn7uJ-q7",
        "outputId": "7d55ff1e-93d2-4536-f4e4-d1c04daeab72"
      },
      "execution_count": 3,
      "outputs": [
        {
          "output_type": "stream",
          "name": "stdout",
          "text": [
            "array('i', [1, 20, 3, 4, 5, 6])\n"
          ]
        }
      ]
    },
    {
      "cell_type": "code",
      "source": [
        "#insert method\n",
        "my_array.insert(2, 15)\n",
        "print(my_array)"
      ],
      "metadata": {
        "colab": {
          "base_uri": "https://localhost:8080/"
        },
        "id": "4GPZFuLfKGwU",
        "outputId": "0f3aeb31-d59a-406f-8604-6e44b32d943e"
      },
      "execution_count": 4,
      "outputs": [
        {
          "output_type": "stream",
          "name": "stdout",
          "text": [
            "array('i', [1, 20, 15, 3, 4, 5, 6])\n"
          ]
        }
      ]
    },
    {
      "cell_type": "code",
      "source": [
        "#remove method\n",
        "my_array.remove(15)\n",
        "print(my_array)"
      ],
      "metadata": {
        "colab": {
          "base_uri": "https://localhost:8080/"
        },
        "id": "sX2Iecj7KMmI",
        "outputId": "e077442a-a29a-492c-d382-fa55a5494ef1"
      },
      "execution_count": 5,
      "outputs": [
        {
          "output_type": "stream",
          "name": "stdout",
          "text": [
            "array('i', [1, 20, 3, 4, 5, 6])\n"
          ]
        }
      ]
    },
    {
      "cell_type": "code",
      "source": [
        "#popped method\n",
        "popped_item = my_array.pop()\n",
        "print(popped_item)\n",
        "print(my_array)"
      ],
      "metadata": {
        "colab": {
          "base_uri": "https://localhost:8080/"
        },
        "id": "AvrWSOZTKVB3",
        "outputId": "b2b6b28b-39bd-40ce-ac3f-d55a7c5c1fff"
      },
      "execution_count": 6,
      "outputs": [
        {
          "output_type": "stream",
          "name": "stdout",
          "text": [
            "6\n",
            "array('i', [1, 20, 3, 4, 5])\n"
          ]
        }
      ]
    },
    {
      "cell_type": "code",
      "source": [
        "#count method\n",
        "count_2 = my_array.count(2)\n",
        "print(\"Count of 2:\", count_2)  # Output: 1"
      ],
      "metadata": {
        "colab": {
          "base_uri": "https://localhost:8080/"
        },
        "id": "M3az5y1qKaev",
        "outputId": "dd43aa81-520c-4731-cc31-0947a9dec086"
      },
      "execution_count": 11,
      "outputs": [
        {
          "output_type": "stream",
          "name": "stdout",
          "text": [
            "Count of 2: 1\n"
          ]
        }
      ]
    },
    {
      "cell_type": "code",
      "source": [
        "#extend method\n",
        "my_array.extend([6, 7, 8])\n",
        "print(\"After extend:\", my_array)"
      ],
      "metadata": {
        "colab": {
          "base_uri": "https://localhost:8080/"
        },
        "id": "okJq6ggCLt__",
        "outputId": "eab1cc35-7b9e-4da4-8873-d150f246c6a3"
      },
      "execution_count": 13,
      "outputs": [
        {
          "output_type": "stream",
          "name": "stdout",
          "text": [
            "After extend: array('i', [1, 2, 3, 4, 5, 6, 7, 8])\n"
          ]
        }
      ]
    },
    {
      "cell_type": "code",
      "source": [
        "my_array.reverse()\n",
        "print(\"After reverse:\", my_array)"
      ],
      "metadata": {
        "colab": {
          "base_uri": "https://localhost:8080/"
        },
        "id": "8YLR_ESkL93n",
        "outputId": "82cfdc77-ef50-4c9f-fe19-3da4ea8e0342"
      },
      "execution_count": 14,
      "outputs": [
        {
          "output_type": "stream",
          "name": "stdout",
          "text": [
            "After reverse: array('i', [8, 7, 6, 5, 4, 3, 2, 1])\n"
          ]
        }
      ]
    },
    {
      "cell_type": "code",
      "source": [
        "#sort method\n",
        "my_array = array.array('i', sorted(my_array))\n",
        "print(\"After sort:\", my_array)"
      ],
      "metadata": {
        "colab": {
          "base_uri": "https://localhost:8080/"
        },
        "id": "d_T4b2pZMEag",
        "outputId": "fca02ad2-ed71-4548-ee4b-f1a1b0eaa455"
      },
      "execution_count": 15,
      "outputs": [
        {
          "output_type": "stream",
          "name": "stdout",
          "text": [
            "After sort: array('i', [1, 2, 3, 4, 5, 6, 7, 8])\n"
          ]
        }
      ]
    }
  ]
}