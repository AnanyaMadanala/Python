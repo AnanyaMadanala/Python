{
  "nbformat": 4,
  "nbformat_minor": 0,
  "metadata": {
    "colab": {
      "provenance": [],
      "authorship_tag": "ABX9TyNXIO4AziKtLznPzxOuzq8J",
      "include_colab_link": true
    },
    "kernelspec": {
      "name": "python3",
      "display_name": "Python 3"
    },
    "language_info": {
      "name": "python"
    }
  },
  "cells": [
    {
      "cell_type": "markdown",
      "metadata": {
        "id": "view-in-github",
        "colab_type": "text"
      },
      "source": [
        "<a href=\"https://colab.research.google.com/github/AnanyaMadanala/Python/blob/main/Set.ipynb\" target=\"_parent\"><img src=\"https://colab.research.google.com/assets/colab-badge.svg\" alt=\"Open In Colab\"/></a>"
      ]
    },
    {
      "cell_type": "code",
      "execution_count": 2,
      "metadata": {
        "colab": {
          "base_uri": "https://localhost:8080/"
        },
        "id": "CwLRbJDgs5ut",
        "outputId": "75e038df-165a-4ead-bbc1-68b57fc4886c"
      },
      "outputs": [
        {
          "output_type": "stream",
          "name": "stdout",
          "text": [
            "{'banana', 'guava', 'orange', 'apple', 'strawberry'}\n"
          ]
        }
      ],
      "source": [
        "x={\"apple\",\"banana\",\"orange\",\"guava\",\"strawberry\"}\n",
        "print(x)"
      ]
    },
    {
      "cell_type": "code",
      "source": [
        "#duplicate value not allowed\n",
        "x={\"apple\",\"banana\",\"apple\",\"orange\",\"guava\",\"strawberry\"}\n",
        "print(x)"
      ],
      "metadata": {
        "colab": {
          "base_uri": "https://localhost:8080/"
        },
        "id": "-FtZ6NqitOR7",
        "outputId": "97424964-1b82-4b9d-8010-702f7cc32c22"
      },
      "execution_count": 3,
      "outputs": [
        {
          "output_type": "stream",
          "name": "stdout",
          "text": [
            "{'banana', 'guava', 'orange', 'apple', 'strawberry'}\n"
          ]
        }
      ]
    },
    {
      "cell_type": "code",
      "source": [
        "#chexk data type of set\n",
        "set1={1,2,3}\n",
        "set2={\"a\",\"b\",\"c\"}\n",
        "set3={True,False}\n",
        "print(type(set1))\n",
        "print(type(set2))\n",
        "print(type(set3))"
      ],
      "metadata": {
        "colab": {
          "base_uri": "https://localhost:8080/"
        },
        "id": "T83VFUNutUpm",
        "outputId": "f7d58483-6e6b-46b4-eec8-d68227b8ebc5"
      },
      "execution_count": 4,
      "outputs": [
        {
          "output_type": "stream",
          "name": "stdout",
          "text": [
            "<class 'set'>\n",
            "<class 'set'>\n",
            "<class 'set'>\n"
          ]
        }
      ]
    },
    {
      "cell_type": "code",
      "source": [
        "#all data type\n",
        "set1={\"cherry\",1,'True'}\n",
        "print(set1)"
      ],
      "metadata": {
        "colab": {
          "base_uri": "https://localhost:8080/"
        },
        "id": "jfsQAFXCtazr",
        "outputId": "c221db42-a89a-4589-e7dc-72b2d45f6ee9"
      },
      "execution_count": 5,
      "outputs": [
        {
          "output_type": "stream",
          "name": "stdout",
          "text": [
            "{1, 'True', 'cherry'}\n"
          ]
        }
      ]
    },
    {
      "cell_type": "code",
      "source": [
        "#the set constructor\n",
        "thisset=set((\"a\",\"b\",\"c\"))\n",
        "print(thisset)"
      ],
      "metadata": {
        "colab": {
          "base_uri": "https://localhost:8080/"
        },
        "id": "rzFpmjnXtglO",
        "outputId": "59658412-ce8b-43a6-ba07-3a2ea03cbec5"
      },
      "execution_count": 6,
      "outputs": [
        {
          "output_type": "stream",
          "name": "stdout",
          "text": [
            "{'b', 'a', 'c'}\n"
          ]
        }
      ]
    },
    {
      "cell_type": "code",
      "source": [
        "#how to access item through looping\n",
        "s={\"a\",\"b\",\"c\",\"d\"}\n",
        "for i in s:\n",
        "    print(i)"
      ],
      "metadata": {
        "colab": {
          "base_uri": "https://localhost:8080/"
        },
        "id": "lKtglAQJtlcQ",
        "outputId": "3a3c5c6f-820d-455b-c447-a00460f7644d"
      },
      "execution_count": 7,
      "outputs": [
        {
          "output_type": "stream",
          "name": "stdout",
          "text": [
            "b\n",
            "a\n",
            "d\n",
            "c\n"
          ]
        }
      ]
    },
    {
      "cell_type": "code",
      "source": [
        "#check if its there or not\n",
        "s={\"a\",\"b\",\"c\"}\n",
        "print(\"d\" in s)"
      ],
      "metadata": {
        "colab": {
          "base_uri": "https://localhost:8080/"
        },
        "id": "765Fx6a3trPM",
        "outputId": "adeb0d92-30c5-49f9-c915-f420e19d6c4b"
      },
      "execution_count": 8,
      "outputs": [
        {
          "output_type": "stream",
          "name": "stdout",
          "text": [
            "False\n"
          ]
        }
      ]
    },
    {
      "cell_type": "code",
      "source": [
        "#adding set items\n",
        "s={\"a\",\"b\",\"c\"}\n",
        "s.add(\"d\")\n",
        "print(s)"
      ],
      "metadata": {
        "colab": {
          "base_uri": "https://localhost:8080/"
        },
        "id": "-fVhYzNPtw6H",
        "outputId": "07537772-b0c6-487a-d36d-6e6eed51f05b"
      },
      "execution_count": 9,
      "outputs": [
        {
          "output_type": "stream",
          "name": "stdout",
          "text": [
            "{'b', 'a', 'd', 'c'}\n"
          ]
        }
      ]
    },
    {
      "cell_type": "code",
      "source": [
        "#remove item\n",
        "s={\"a\",\"b\",\"c\"}\n",
        "s.remove(\"b\")\n",
        "print(s)"
      ],
      "metadata": {
        "colab": {
          "base_uri": "https://localhost:8080/"
        },
        "id": "cCyMWpp8t118",
        "outputId": "9370202c-9be9-4b64-b8ff-7fb6ddee084a"
      },
      "execution_count": 10,
      "outputs": [
        {
          "output_type": "stream",
          "name": "stdout",
          "text": [
            "{'a', 'c'}\n"
          ]
        }
      ]
    },
    {
      "cell_type": "code",
      "source": [
        "#pop element\n",
        "s={\"a\",\"b\",\"c\"}\n",
        "w=s.pop()\n",
        "print(w)\n",
        "print(s)"
      ],
      "metadata": {
        "colab": {
          "base_uri": "https://localhost:8080/"
        },
        "id": "3Cxd_DHmt6ji",
        "outputId": "d640f3e3-8b0a-4016-e335-35dcc8146173"
      },
      "execution_count": 11,
      "outputs": [
        {
          "output_type": "stream",
          "name": "stdout",
          "text": [
            "b\n",
            "{'a', 'c'}\n"
          ]
        }
      ]
    },
    {
      "cell_type": "code",
      "source": [
        "#clear method\n",
        "s={\"a\",\"b\",\"c\"}\n",
        "s.clear()\n",
        "print(s)"
      ],
      "metadata": {
        "colab": {
          "base_uri": "https://localhost:8080/"
        },
        "id": "1Iq_BYaAuGV5",
        "outputId": "6066ae80-da9e-4ddd-f3ad-ee36a4c394b9"
      },
      "execution_count": 12,
      "outputs": [
        {
          "output_type": "stream",
          "name": "stdout",
          "text": [
            "set()\n"
          ]
        }
      ]
    },
    {
      "cell_type": "code",
      "source": [
        "#delete\n",
        "s={\"a\",\"b\",\"c\"}\n",
        "del s"
      ],
      "metadata": {
        "id": "Jvy9ZTrXubyg"
      },
      "execution_count": 13,
      "outputs": []
    },
    {
      "cell_type": "code",
      "source": [
        "#how to loop through set\n",
        "s={\"a\",\"b\",\"c\"}\n",
        "for i in s:\n",
        "  print(i)"
      ],
      "metadata": {
        "colab": {
          "base_uri": "https://localhost:8080/"
        },
        "id": "UbqoLCr1ukMP",
        "outputId": "c6d38f44-310a-4f4e-db84-d834c0c1b555"
      },
      "execution_count": 14,
      "outputs": [
        {
          "output_type": "stream",
          "name": "stdout",
          "text": [
            "b\n",
            "a\n",
            "c\n"
          ]
        }
      ]
    },
    {
      "cell_type": "code",
      "source": [
        "#join two method using union\n",
        "set1={1,2,3}\n",
        "set2={\"a\",\"b\",\"c\"}\n",
        "set3=set1.union(set2)\n",
        "print(set3)"
      ],
      "metadata": {
        "colab": {
          "base_uri": "https://localhost:8080/"
        },
        "id": "BtLrwgs2u6q_",
        "outputId": "5065e94e-3659-4336-8516-8db263d65d65"
      },
      "execution_count": 15,
      "outputs": [
        {
          "output_type": "stream",
          "name": "stdout",
          "text": [
            "{'b', 1, 2, 3, 'a', 'c'}\n"
          ]
        }
      ]
    },
    {
      "cell_type": "code",
      "source": [
        "#keep duplicate item using intersection_update()\n",
        "x={1,2,3}\n",
        "y={\"a\",2,\"c\"}\n",
        "x.intersection_update(y)\n",
        "print(x)"
      ],
      "metadata": {
        "colab": {
          "base_uri": "https://localhost:8080/"
        },
        "id": "UzWJMovHvQFm",
        "outputId": "ee42f326-2e61-4b44-a444-b02da6b814c3"
      },
      "execution_count": 17,
      "outputs": [
        {
          "output_type": "stream",
          "name": "stdout",
          "text": [
            "{2}\n"
          ]
        }
      ]
    },
    {
      "cell_type": "code",
      "source": [
        "#keep all except duplicate element\n",
        "x={1,2,3}\n",
        "y={\"a\",2,\"c\"}\n",
        "x.symmetric_difference_update(y)\n",
        "print(x)"
      ],
      "metadata": {
        "colab": {
          "base_uri": "https://localhost:8080/"
        },
        "id": "Bpeqet3ovp4u",
        "outputId": "736b87d0-18fb-49e9-b103-ef6dba388f74"
      },
      "execution_count": 20,
      "outputs": [
        {
          "output_type": "stream",
          "name": "stdout",
          "text": [
            "{1, 3, 'c', 'a'}\n"
          ]
        }
      ]
    }
  ]
}