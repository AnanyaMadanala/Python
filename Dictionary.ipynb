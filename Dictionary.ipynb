{
  "nbformat": 4,
  "nbformat_minor": 0,
  "metadata": {
    "colab": {
      "provenance": [],
      "authorship_tag": "ABX9TyOkPt0kebBF9ZJSSM6vBgf8",
      "include_colab_link": true
    },
    "kernelspec": {
      "name": "python3",
      "display_name": "Python 3"
    },
    "language_info": {
      "name": "python"
    }
  },
  "cells": [
    {
      "cell_type": "markdown",
      "metadata": {
        "id": "view-in-github",
        "colab_type": "text"
      },
      "source": [
        "<a href=\"https://colab.research.google.com/github/AnanyaMadanala/Python/blob/main/Dictionary.ipynb\" target=\"_parent\"><img src=\"https://colab.research.google.com/assets/colab-badge.svg\" alt=\"Open In Colab\"/></a>"
      ]
    },
    {
      "cell_type": "code",
      "execution_count": null,
      "metadata": {
        "colab": {
          "base_uri": "https://localhost:8080/"
        },
        "id": "I-Ig3VPuwu2S",
        "outputId": "25b6df87-dc56-4877-ee9c-6cdb72ab5d73"
      },
      "outputs": [
        {
          "output_type": "stream",
          "name": "stdout",
          "text": [
            "{'brand': 'ford', 'model': 'DT', 'year': 2020}\n"
          ]
        }
      ],
      "source": [
        "s={\"brand\":\"ford\",\n",
        "   \"model\":\"DT\",\n",
        "   \"year\":2020}\n",
        "print(s)"
      ]
    },
    {
      "cell_type": "code",
      "execution_count": null,
      "metadata": {
        "colab": {
          "base_uri": "https://localhost:8080/"
        },
        "outputId": "8754a15c-b3ee-4d2e-e3bd-0c8708e46498",
        "id": "R_wojWf70Ndi"
      },
      "outputs": [
        {
          "output_type": "stream",
          "name": "stdout",
          "text": [
            "3\n"
          ]
        }
      ],
      "source": [
        "#how to find length of set\n",
        "s={\"brand\":\"ford\",\n",
        "   \"model\":\"DT\",\n",
        "   \"year\":2020}\n",
        "print(len(s))"
      ]
    },
    {
      "cell_type": "code",
      "execution_count": null,
      "metadata": {
        "colab": {
          "base_uri": "https://localhost:8080/"
        },
        "outputId": "7777831a-5fd2-428b-e14c-a22bc9c336bb",
        "id": "zrmB6oHN0pFu"
      },
      "outputs": [
        {
          "output_type": "stream",
          "name": "stdout",
          "text": [
            "{'brand': 'ford', 'model': 'DT', 'year': 2020, 'colour': ['blue', 'yellow']}\n"
          ]
        }
      ],
      "source": [
        "#different data type\n",
        "s={\"brand\":\"ford\",\n",
        "   \"model\":\"DT\",\n",
        "   \"year\":2020,\n",
        "   \"colour\":[\"blue\",\"yellow\"]}\n",
        "print(s)"
      ]
    },
    {
      "cell_type": "code",
      "source": [
        "#type of data\n",
        "s={\"brand\":\"ford\",\n",
        "   \"model\":\"DT\",\n",
        "   \"year\":2020,\n",
        "   \"colour\":[\"blue\",\"yellow\"]}\n",
        "print(type(s))"
      ],
      "metadata": {
        "colab": {
          "base_uri": "https://localhost:8080/"
        },
        "id": "qA3yZ3tv1L2v",
        "outputId": "fa4d12c8-f755-43b6-d881-259b6bbbec71"
      },
      "execution_count": null,
      "outputs": [
        {
          "output_type": "stream",
          "name": "stdout",
          "text": [
            "<class 'dict'>\n"
          ]
        }
      ]
    },
    {
      "cell_type": "code",
      "source": [
        "#acess particular data\n",
        "s={\"brand\":\"ford\",\n",
        "   \"model\":\"DT\",\n",
        "   \"year\":2020,\n",
        "   \"colour\":[\"blue\",\"yellow\"]}\n",
        "x=s[\"model\"]\n",
        "print(x)"
      ],
      "metadata": {
        "colab": {
          "base_uri": "https://localhost:8080/"
        },
        "id": "L6u97yRb1lzc",
        "outputId": "f849955e-868e-4f6b-b74e-4b93ff0a0601"
      },
      "execution_count": null,
      "outputs": [
        {
          "output_type": "stream",
          "name": "stdout",
          "text": [
            "DT\n"
          ]
        }
      ]
    },
    {
      "cell_type": "code",
      "source": [
        "#adding items\n",
        "s={\"brand\":\"ford\",\n",
        "   \"model\":\"DT\",\n",
        "   \"year\":2020,\n",
        "}\n",
        "x=s.keys()\n",
        "print(x)\n",
        "s[\"colour\"]=\"white\"\n",
        "print(x)"
      ],
      "metadata": {
        "colab": {
          "base_uri": "https://localhost:8080/"
        },
        "id": "Z6KKqmBk2Nrt",
        "outputId": "40617e2b-ee12-4d15-9d4d-c87687e03e39"
      },
      "execution_count": null,
      "outputs": [
        {
          "output_type": "stream",
          "name": "stdout",
          "text": [
            "dict_keys(['brand', 'model', 'year'])\n",
            "dict_keys(['brand', 'model', 'year', 'colour'])\n"
          ]
        }
      ]
    },
    {
      "cell_type": "code",
      "source": [
        "#how to get value of dictionary\n",
        "s={\"brand\":\"ford\",\n",
        "   \"model\":\"DT\",\n",
        "   \"year\":2020,\n",
        "   \"colour\":[\"blue\",\"yellow\"]}\n",
        "x=s.values()\n",
        "print(x)"
      ],
      "metadata": {
        "colab": {
          "base_uri": "https://localhost:8080/"
        },
        "id": "mTUs6PgE3lW8",
        "outputId": "12ca3ae2-4a83-434f-a0f1-db6718551d51"
      },
      "execution_count": null,
      "outputs": [
        {
          "output_type": "stream",
          "name": "stdout",
          "text": [
            "dict_values(['ford', 'DT', 2020, ['blue', 'yellow']])\n"
          ]
        }
      ]
    },
    {
      "cell_type": "code",
      "source": [
        "#check if key exists\n",
        "s={\"brand\":\"ford\",\n",
        "   \"model\":\"DT\",\n",
        "   \"year\":2020,\n",
        "   \"colour\":[\"blue\",\"yellow\"]}\n",
        "if \"model\" in s:\n",
        "  print('model',\"yes is present\")"
      ],
      "metadata": {
        "colab": {
          "base_uri": "https://localhost:8080/"
        },
        "id": "725hm0la4jW4",
        "outputId": "23359ea4-2953-476d-bde5-dc46ec06f446"
      },
      "execution_count": null,
      "outputs": [
        {
          "output_type": "stream",
          "name": "stdout",
          "text": [
            "model yes is present\n"
          ]
        }
      ]
    },
    {
      "cell_type": "code",
      "source": [
        "#update method\n",
        "s={\"brand\":\"ford\",\n",
        "   \"model\":\"DT\",\n",
        "   \"year\":2020,\n",
        "   \"colour\":[\"blue\",\"yellow\"]}\n",
        "s.update({\"year\":\"2018\"})\n",
        "print(s)"
      ],
      "metadata": {
        "colab": {
          "base_uri": "https://localhost:8080/"
        },
        "id": "3oY3vJHI5bGq",
        "outputId": "f6b9ae71-62e5-450a-bf14-61e58b2248b2"
      },
      "execution_count": null,
      "outputs": [
        {
          "output_type": "stream",
          "name": "stdout",
          "text": [
            "{'brand': 'ford', 'model': 'DT', 'year': '2018', 'colour': ['blue', 'yellow']}\n"
          ]
        }
      ]
    },
    {
      "cell_type": "code",
      "source": [
        "#removing items\n",
        "s={\"brand\":\"ford\",\n",
        "   \"model\":\"DT\",\n",
        "   \"year\":2020,\n",
        "   \"colour\":[\"blue\",\"yellow\"]}\n",
        "s.pop(\"model\")\n",
        "print(s)"
      ],
      "metadata": {
        "colab": {
          "base_uri": "https://localhost:8080/"
        },
        "id": "cy9TTQ9e6Al2",
        "outputId": "e5c2afe0-e2fc-43f2-d979-7e9194e77666"
      },
      "execution_count": null,
      "outputs": [
        {
          "output_type": "stream",
          "name": "stdout",
          "text": [
            "{'brand': 'ford', 'year': 2020, 'colour': ['blue', 'yellow']}\n"
          ]
        }
      ]
    },
    {
      "cell_type": "code",
      "source": [
        "#delete element\n",
        "s={\"brand\":\"ford\",\n",
        "   \"model\":\"DT\",\n",
        "   \"year\":2020,\n",
        "   \"colour\":[\"blue\",\"yellow\"]}\n",
        "del s[\"model\"]\n",
        "print(s)"
      ],
      "metadata": {
        "colab": {
          "base_uri": "https://localhost:8080/"
        },
        "id": "IAhM8Neu6QFG",
        "outputId": "32d64697-24ea-466d-f080-9143d93aa49d"
      },
      "execution_count": null,
      "outputs": [
        {
          "output_type": "stream",
          "name": "stdout",
          "text": [
            "{'brand': 'ford', 'year': 2020, 'colour': ['blue', 'yellow']}\n"
          ]
        }
      ]
    },
    {
      "cell_type": "code",
      "source": [
        "#clear method\n",
        "s={\"brand\":\"ford\",\n",
        "   \"model\":\"DT\",\n",
        "   \"year\":2020,\n",
        "   \"colour\":[\"blue\",\"yellow\"]}\n",
        "s.clear()\n",
        "print(s)"
      ],
      "metadata": {
        "colab": {
          "base_uri": "https://localhost:8080/"
        },
        "id": "xNnjwPdV6ks5",
        "outputId": "4cc14b6f-5d01-4d39-9ac9-a2e39532130b"
      },
      "execution_count": null,
      "outputs": [
        {
          "output_type": "stream",
          "name": "stdout",
          "text": [
            "{}\n"
          ]
        }
      ]
    }
  ]
}