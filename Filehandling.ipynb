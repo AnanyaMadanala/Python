{
  "nbformat": 4,
  "nbformat_minor": 0,
  "metadata": {
    "colab": {
      "provenance": [],
      "authorship_tag": "ABX9TyPc585ywAAoGqHFVOUWAtC9",
      "include_colab_link": true
    },
    "kernelspec": {
      "name": "python3",
      "display_name": "Python 3"
    },
    "language_info": {
      "name": "python"
    }
  },
  "cells": [
    {
      "cell_type": "markdown",
      "metadata": {
        "id": "view-in-github",
        "colab_type": "text"
      },
      "source": [
        "<a href=\"https://colab.research.google.com/github/AnanyaMadanala/Python/blob/main/Filehandling.ipynb\" target=\"_parent\"><img src=\"https://colab.research.google.com/assets/colab-badge.svg\" alt=\"Open In Colab\"/></a>"
      ]
    },
    {
      "cell_type": "code",
      "execution_count": 1,
      "metadata": {
        "colab": {
          "base_uri": "https://localhost:8080/"
        },
        "id": "mPEv6651QTuL",
        "outputId": "ae3fac89-55c0-4490-8651-7d5946159c20"
      },
      "outputs": [
        {
          "output_type": "stream",
          "name": "stdout",
          "text": [
            "The file 'sample.txt' does not exist.\n"
          ]
        }
      ],
      "source": [
        "#Reading from a file\n",
        "def read_file(file_name):\n",
        "    try:\n",
        "        with open(file_name, 'r') as file:\n",
        "            content = file.read()\n",
        "            print(\"File content:\\n\", content)\n",
        "    except FileNotFoundError:\n",
        "        print(f\"The file '{file_name}' does not exist.\")\n",
        "read_file(\"sample.txt\")"
      ]
    },
    {
      "cell_type": "code",
      "source": [
        "# Write to a file (overwrite)\n",
        "def write_file(file_name, content):\n",
        "    with open(file_name, 'w') as file:\n",
        "        file.write(content)\n",
        "    print(f\"Content written to {file_name}\")\n",
        "write_file(\"output.txt\", \"This is a test file for writing.\\nHello, World!\")"
      ],
      "metadata": {
        "colab": {
          "base_uri": "https://localhost:8080/"
        },
        "id": "CJ4C0y4FQrbu",
        "outputId": "94b8bbf1-2c65-40c0-eaec-499d43242162"
      },
      "execution_count": 2,
      "outputs": [
        {
          "output_type": "stream",
          "name": "stdout",
          "text": [
            "Content written to output.txt\n"
          ]
        }
      ]
    },
    {
      "cell_type": "code",
      "source": [
        "# Append to a file\n",
        "def append_to_file(file_name, content):\n",
        "    with open(file_name, 'a') as file:\n",
        "        file.write(content)\n",
        "    print(f\"Content appended to {file_name}\")\n",
        "append_to_file(\"output.txt\", \"\\nThis is an appended line.\")"
      ],
      "metadata": {
        "colab": {
          "base_uri": "https://localhost:8080/"
        },
        "id": "TZ1frhxpQyCU",
        "outputId": "ccd682c4-5866-4f10-dcc1-fc848aeca352"
      },
      "execution_count": 3,
      "outputs": [
        {
          "output_type": "stream",
          "name": "stdout",
          "text": [
            "Content appended to output.txt\n"
          ]
        }
      ]
    },
    {
      "cell_type": "code",
      "source": [
        "# Read a file in binary mode\n",
        "def read_binary_file(file_name):\n",
        "    try:\n",
        "        with open(file_name, 'rb') as file:\n",
        "            content = file.read()\n",
        "            print(f\"Binary content of {file_name}:\", content)\n",
        "    except FileNotFoundError:\n",
        "        print(f\"The file '{file_name}' does not exist.\")\n",
        "read_binary_file(\"example_image.png\")"
      ],
      "metadata": {
        "colab": {
          "base_uri": "https://localhost:8080/"
        },
        "id": "sP6HUKkHQ2c0",
        "outputId": "e70de2e8-311c-48f3-82af-a5b9ec44d896"
      },
      "execution_count": 4,
      "outputs": [
        {
          "output_type": "stream",
          "name": "stdout",
          "text": [
            "The file 'example_image.png' does not exist.\n"
          ]
        }
      ]
    },
    {
      "cell_type": "code",
      "source": [
        "# Write binary data to a file\n",
        "def write_binary_file(file_name, data):\n",
        "    with open(file_name, 'wb') as file:\n",
        "        file.write(data)\n",
        "    print(f\"Binary content written to {file_name}\")\n",
        "byte_data = b'\\x89PNG\\r\\n\\x1a\\n'\n",
        "write_binary_file(\"new_image.png\", byte_data)"
      ],
      "metadata": {
        "colab": {
          "base_uri": "https://localhost:8080/"
        },
        "id": "bjem4JrOQ-ub",
        "outputId": "d620898f-f95f-4259-eaf1-ebe1e5cc6a1c"
      },
      "execution_count": 5,
      "outputs": [
        {
          "output_type": "stream",
          "name": "stdout",
          "text": [
            "Binary content written to new_image.png\n"
          ]
        }
      ]
    }
  ]
}