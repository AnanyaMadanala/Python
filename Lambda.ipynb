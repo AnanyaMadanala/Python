{
  "nbformat": 4,
  "nbformat_minor": 0,
  "metadata": {
    "colab": {
      "provenance": [],
      "authorship_tag": "ABX9TyM9sY+53Gu3sxD9aM6cOulv",
      "include_colab_link": true
    },
    "kernelspec": {
      "name": "python3",
      "display_name": "Python 3"
    },
    "language_info": {
      "name": "python"
    }
  },
  "cells": [
    {
      "cell_type": "markdown",
      "metadata": {
        "id": "view-in-github",
        "colab_type": "text"
      },
      "source": [
        "<a href=\"https://colab.research.google.com/github/AnanyaMadanala/Python/blob/main/Lambda.ipynb\" target=\"_parent\"><img src=\"https://colab.research.google.com/assets/colab-badge.svg\" alt=\"Open In Colab\"/></a>"
      ]
    },
    {
      "cell_type": "code",
      "execution_count": 1,
      "metadata": {
        "colab": {
          "base_uri": "https://localhost:8080/"
        },
        "id": "-paogEVUSYPJ",
        "outputId": "2846a39b-b5eb-4a65-8650-ec6163c81eff"
      },
      "outputs": [
        {
          "output_type": "stream",
          "name": "stdout",
          "text": [
            "15\n"
          ]
        }
      ],
      "source": [
        "#create a lambda function\n",
        "x=lambda a:a+10\n",
        "print(x(5))"
      ]
    },
    {
      "cell_type": "code",
      "source": [
        "#WAP of Python program using a lambda function to calculate the square of a number.\n",
        "square=lambda x: x**2\n",
        "print(square(5))"
      ],
      "metadata": {
        "colab": {
          "base_uri": "https://localhost:8080/"
        },
        "id": "nWROHVIcSq8A",
        "outputId": "150baac5-511f-4c3c-9203-168ac8aec413"
      },
      "execution_count": 2,
      "outputs": [
        {
          "output_type": "stream",
          "name": "stdout",
          "text": [
            "25\n"
          ]
        }
      ]
    },
    {
      "cell_type": "code",
      "source": [
        "#WAP of lambda function to find the maximum of two numbers.\n",
        "maximum=lambda a,b: a if a>b else b\n",
        "print(maximum(4,7))"
      ],
      "metadata": {
        "colab": {
          "base_uri": "https://localhost:8080/"
        },
        "id": "UR1kyVDFS9uB",
        "outputId": "ff2964ca-a2df-4c1b-c418-1510ad3b8e7e"
      },
      "execution_count": 3,
      "outputs": [
        {
          "output_type": "stream",
          "name": "stdout",
          "text": [
            "7\n"
          ]
        }
      ]
    },
    {
      "cell_type": "code",
      "source": [
        "#WAP  to check if a number is even or odd.\n",
        "check_even_odd=lambda x: \"Even\" if x%2==0 else \"Odd\"\n",
        "print(check_even_odd(8))"
      ],
      "metadata": {
        "colab": {
          "base_uri": "https://localhost:8080/"
        },
        "id": "5NHGghRATh8d",
        "outputId": "2e816808-19d3-4682-a4d6-2852be0721cc"
      },
      "execution_count": 4,
      "outputs": [
        {
          "output_type": "stream",
          "name": "stdout",
          "text": [
            "Even\n"
          ]
        }
      ]
    },
    {
      "cell_type": "code",
      "source": [
        "#WAP calculates the area of a rectangle, given the width and height.\n",
        "area=lambda width,height: width*height\n",
        "print(area(5, 10))"
      ],
      "metadata": {
        "colab": {
          "base_uri": "https://localhost:8080/"
        },
        "id": "XuxMp7kUT2sq",
        "outputId": "2700f391-ff81-4331-b151-2b9bd74c8b4a"
      },
      "execution_count": 5,
      "outputs": [
        {
          "output_type": "stream",
          "name": "stdout",
          "text": [
            "50\n"
          ]
        }
      ]
    },
    {
      "cell_type": "code",
      "source": [
        "#WAP  to find the maximum of three numbers.\n",
        "max_of_three=lambda x,y,z:max(x,y,z)\n",
        "print(max_of_three(2,7,5))"
      ],
      "metadata": {
        "colab": {
          "base_uri": "https://localhost:8080/"
        },
        "id": "01QfUSADUayK",
        "outputId": "ed8fa69e-e3ff-4863-85c9-0a4eef22019f"
      },
      "execution_count": 6,
      "outputs": [
        {
          "output_type": "stream",
          "name": "stdout",
          "text": [
            "7\n"
          ]
        }
      ]
    },
    {
      "cell_type": "code",
      "source": [
        "#WAP Write a lambda function to find the cube of a number.\n",
        "cube = lambda x: x ** 3\n",
        "print(cube(3))"
      ],
      "metadata": {
        "colab": {
          "base_uri": "https://localhost:8080/"
        },
        "id": "9DQrhWhcUwhv",
        "outputId": "a74683f2-4d2f-48a3-d43a-7787c5f8dd77"
      },
      "execution_count": 7,
      "outputs": [
        {
          "output_type": "stream",
          "name": "stdout",
          "text": [
            "27\n"
          ]
        }
      ]
    },
    {
      "cell_type": "code",
      "source": [],
      "metadata": {
        "id": "gtMA82cyU2vy"
      },
      "execution_count": null,
      "outputs": []
    }
  ]
}