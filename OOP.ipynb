{
  "nbformat": 4,
  "nbformat_minor": 0,
  "metadata": {
    "colab": {
      "provenance": [],
      "authorship_tag": "ABX9TyPbqm7XN6Xy+Ro9puRhF3pH",
      "include_colab_link": true
    },
    "kernelspec": {
      "name": "python3",
      "display_name": "Python 3"
    },
    "language_info": {
      "name": "python"
    }
  },
  "cells": [
    {
      "cell_type": "markdown",
      "metadata": {
        "id": "view-in-github",
        "colab_type": "text"
      },
      "source": [
        "<a href=\"https://colab.research.google.com/github/AnanyaMadanala/Python/blob/main/OOP.ipynb\" target=\"_parent\"><img src=\"https://colab.research.google.com/assets/colab-badge.svg\" alt=\"Open In Colab\"/></a>"
      ]
    },
    {
      "cell_type": "code",
      "execution_count": 2,
      "metadata": {
        "colab": {
          "base_uri": "https://localhost:8080/"
        },
        "id": "OtKesXdlBywn",
        "outputId": "464169eb-1c61-4347-f9ff-acd3dc856beb"
      },
      "outputs": [
        {
          "output_type": "stream",
          "name": "stdout",
          "text": [
            "5\n"
          ]
        }
      ],
      "source": [
        "#create a class\n",
        "class Myclass:\n",
        "  x=5\n",
        "  print(x)"
      ]
    },
    {
      "cell_type": "code",
      "source": [
        "#create a object\n",
        "p1=Myclass()\n",
        "print(p1.x)"
      ],
      "metadata": {
        "colab": {
          "base_uri": "https://localhost:8080/"
        },
        "id": "NFFYfmWOEqCp",
        "outputId": "7c6020d0-da81-4e7f-9f86-8a1b319d8e36"
      },
      "execution_count": 3,
      "outputs": [
        {
          "output_type": "stream",
          "name": "stdout",
          "text": [
            "5\n"
          ]
        }
      ]
    },
    {
      "cell_type": "code",
      "source": [
        "#_init_ method\n",
        "class Person:\n",
        "  def __init__(self, name, age):\n",
        "    self.name = name\n",
        "    self.age = age\n",
        "p1 = Person(\"John\", 36)\n",
        "print(p1.name)\n",
        "print(p1.age)"
      ],
      "metadata": {
        "colab": {
          "base_uri": "https://localhost:8080/"
        },
        "id": "bVPW9QCdE6oL",
        "outputId": "9a64fee1-4041-41ca-f694-2052e4e549b3"
      },
      "execution_count": 7,
      "outputs": [
        {
          "output_type": "stream",
          "name": "stdout",
          "text": [
            "John\n",
            "36\n"
          ]
        }
      ]
    },
    {
      "cell_type": "code",
      "source": [
        "#object method\n",
        "class Person:\n",
        "  def __init__(self, name, age):\n",
        "    self.name = name\n",
        "    self.age = age\n",
        "  def myfunc(self):\n",
        "    print(\"Hello my name is \" + self.name)\n",
        "p1 = Person(\"Anamya\", 20)\n",
        "p1.myfunc()"
      ],
      "metadata": {
        "colab": {
          "base_uri": "https://localhost:8080/"
        },
        "id": "ritgQtF_GAxI",
        "outputId": "1909cf59-9484-4002-fd34-f5fa0e5907bb"
      },
      "execution_count": 9,
      "outputs": [
        {
          "output_type": "stream",
          "name": "stdout",
          "text": [
            "Hello my name is Anamya\n"
          ]
        }
      ]
    },
    {
      "cell_type": "code",
      "source": [
        "#inheritance\n",
        "class Person:\n",
        "  def __init__(self, fname, lname):\n",
        "    self.firstname=fname\n",
        "    self.lastname=lname\n",
        "  def printname(self):\n",
        "    print(self.firstname,self.lastname)\n",
        "x=Person(\"Anamya\",\"Kaur\")\n",
        "x.printname()"
      ],
      "metadata": {
        "colab": {
          "base_uri": "https://localhost:8080/"
        },
        "id": "7bqt4AMlGVUX",
        "outputId": "c88ec733-3b13-4a40-c2dd-46174788423d"
      },
      "execution_count": 10,
      "outputs": [
        {
          "output_type": "stream",
          "name": "stdout",
          "text": [
            "Anamya Kaur\n"
          ]
        }
      ]
    },
    {
      "cell_type": "code",
      "source": [
        "#Polymorphism\n",
        "class Dog:\n",
        "  def sound(self):\n",
        "    return \"Woof\"\n",
        "class Cat:\n",
        "  def sound(self):\n",
        "    return \"Meow\"\n",
        "for animal in(Dog(),Cat()):\n",
        "  print(animal.sound())"
      ],
      "metadata": {
        "colab": {
          "base_uri": "https://localhost:8080/"
        },
        "id": "aHHlw76SG2Tl",
        "outputId": "5217739b-d350-4274-b20c-1989a03abe92"
      },
      "execution_count": 11,
      "outputs": [
        {
          "output_type": "stream",
          "name": "stdout",
          "text": [
            "Woof\n",
            "Meow\n"
          ]
        }
      ]
    },
    {
      "cell_type": "code",
      "source": [
        "#constructor\n",
        "class Person:\n",
        "    def __init__(self, name, age):\n",
        "        self.name = name\n",
        "        self.age = age\n",
        "    def display_info(self):\n",
        "        print(f\"Name: {self.name}, Age: {self.age}\")\n",
        "person = Person(\"Anamya\", 20)\n",
        "person.display_info()"
      ],
      "metadata": {
        "colab": {
          "base_uri": "https://localhost:8080/"
        },
        "id": "mN8GcOztH759",
        "outputId": "29672e8d-ee37-4823-9404-311fb3553209"
      },
      "execution_count": 13,
      "outputs": [
        {
          "output_type": "stream",
          "name": "stdout",
          "text": [
            "Name: Anamya, Age: 20\n"
          ]
        }
      ]
    },
    {
      "cell_type": "code",
      "source": [
        "#encapsulation\n",
        "class Employee:\n",
        "    def __init__(self, name, salary):\n",
        "        self.__name = name\n",
        "        self.__salary = salary\n",
        "    def get_name(self):\n",
        "        return self.__name\n",
        "    def get_salary(self):\n",
        "        return self.__salary\n",
        "employee = Employee(\"Alice\", 50000)\n",
        "print(f\"Name: {employee.get_name()}\")\n",
        "print(f\"Salary: {employee.get_salary()}\")"
      ],
      "metadata": {
        "colab": {
          "base_uri": "https://localhost:8080/"
        },
        "id": "EbOlEdw3I1YW",
        "outputId": "e3fec2aa-c728-46ca-e20a-bba56914a339"
      },
      "execution_count": 14,
      "outputs": [
        {
          "output_type": "stream",
          "name": "stdout",
          "text": [
            "Name: Alice\n",
            "Salary: 50000\n"
          ]
        }
      ]
    },
    {
      "cell_type": "code",
      "source": [
        "#method overrinding\n",
        "class Animal:\n",
        "    def make_sound(self):\n",
        "        print(\"Some generic animal sound\")\n",
        "class Dog(Animal):\n",
        "    def make_sound(self):\n",
        "        print(\"Woof! Woof!\")\n",
        "class Cat(Animal):\n",
        "    def make_sound(self):\n",
        "        print(\"Meow! Meow!\")\n",
        "animal=Animal()\n",
        "dog=Dog()\n",
        "cat=Cat()\n",
        "animal.make_sound()\n",
        "dog.make_sound()\n",
        "cat.make_sound()"
      ],
      "metadata": {
        "colab": {
          "base_uri": "https://localhost:8080/"
        },
        "id": "BXFteGUcJaUF",
        "outputId": "66e02432-3f6c-4eae-f7fb-c02525e9c5a8"
      },
      "execution_count": 15,
      "outputs": [
        {
          "output_type": "stream",
          "name": "stdout",
          "text": [
            "Some generic animal sound\n",
            "Woof! Woof!\n",
            "Meow! Meow!\n"
          ]
        }
      ]
    },
    {
      "cell_type": "code",
      "source": [
        "#Create a class called Book with attributes title, author, and price. Create multiple objects of the class and display their details using a method.\n",
        "class Book:\n",
        "    def __init__(self, title, author, price):\n",
        "        self.title=title\n",
        "        self.author=author\n",
        "        self.price=price\n",
        "    def display(self):\n",
        "        print(f\"Title: {self.title}, Author: {self.author}, Price: {self.price}\")\n",
        "book1=Book(\"Python Programming\", \"Anamya Kaur\", 500)\n",
        "book2=Book(\"Data Science\", \"Vipra Kaur\", 750)\n",
        "book1.display()\n",
        "book2.display()"
      ],
      "metadata": {
        "colab": {
          "base_uri": "https://localhost:8080/"
        },
        "id": "C-DMV7DKKC09",
        "outputId": "09feab53-717a-45a6-82b6-5e4d4b164dab"
      },
      "execution_count": 17,
      "outputs": [
        {
          "output_type": "stream",
          "name": "stdout",
          "text": [
            "Title: Python Programming, Author: Anamya Kaur, Price: 500\n",
            "Title: Data Science, Author: Vipra Kaur, Price: 750\n"
          ]
        }
      ]
    },
    {
      "cell_type": "code",
      "source": [
        "#Create a class Account with private attributes account_number and balance.\n",
        "class Account:\n",
        "    def __init__(self, account_number, balance):\n",
        "        self.__account_number = account_number\n",
        "        self.__balance = balance\n",
        "    def deposit(self, amount):\n",
        "        self.__balance += amount\n",
        "    def withdraw(self, amount):\n",
        "        if amount <= self.__balance:\n",
        "            self.__balance -= amount\n",
        "        else:\n",
        "            print(\"Insufficient balance\")\n",
        "    def get_balance(self):\n",
        "        return self.__balance\n",
        "account = Account(123456, 5000)\n",
        "account.deposit(2000)\n",
        "print(account.get_balance())\n",
        "account.withdraw(3000)\n",
        "print(account.get_balance())"
      ],
      "metadata": {
        "colab": {
          "base_uri": "https://localhost:8080/"
        },
        "id": "DjyYm93nNtc6",
        "outputId": "0b68e9c2-e906-44b3-bf2a-e3f637339a80"
      },
      "execution_count": 18,
      "outputs": [
        {
          "output_type": "stream",
          "name": "stdout",
          "text": [
            "7000\n",
            "4000\n"
          ]
        }
      ]
    },
    {
      "cell_type": "code",
      "source": [
        "#Create a base class Vehicle with attributes brand and speed, and a method displayDetails().\n",
        "class Vehicle:\n",
        "    def __init__(self, brand, speed):\n",
        "        self.brand = brand\n",
        "        self.speed = speed\n",
        "    def displayDetails(self):\n",
        "        print(f\"Brand: {self.brand}, Speed: {self.speed}\")\n",
        "class Car(Vehicle):\n",
        "    def __init__(self, brand, speed, fuel_type):\n",
        "        super().__init__(brand, speed)\n",
        "        self.fuel_type = fuel_type\n",
        "    def displayDetails(self):\n",
        "        super().displayDetails()\n",
        "        print(f\"Fuel Type: {self.fuel_type}\")\n",
        "car = Car(\"Toyota\", 120, \"Petrol\")\n",
        "car.displayDetails()"
      ],
      "metadata": {
        "colab": {
          "base_uri": "https://localhost:8080/"
        },
        "id": "PB_CQ5cHN8sh",
        "outputId": "e17db86a-6ae8-467f-c15f-2bac0345d11a"
      },
      "execution_count": 19,
      "outputs": [
        {
          "output_type": "stream",
          "name": "stdout",
          "text": [
            "Brand: Toyota, Speed: 120\n",
            "Fuel Type: Petrol\n"
          ]
        }
      ]
    },
    {
      "cell_type": "code",
      "source": [
        "#Create a subclass Employee that inherits from Person and adds attributes employee_id and department.\n",
        "class Person:\n",
        "    def __init__(self, name, age):\n",
        "        self.__name = name\n",
        "        self.__age = age\n",
        "    def get_name(self):\n",
        "        return self.__name\n",
        "    def set_name(self, name):\n",
        "        self.__name = name\n",
        "    def get_age(self):\n",
        "        return self.__age\n",
        "    def set_age(self, age):\n",
        "        self.__age = age\n",
        "class Employee(Person):\n",
        "    def __init__(self, name, age, employee_id, department):\n",
        "        super().__init__(name, age)\n",
        "        self.employee_id = employee_id\n",
        "        self.department = department\n",
        "    def display(self):\n",
        "        print(f\"Name: {self.get_name()}, Age: {self.get_age()}, Employee ID: {self.employee_id}, Department: {self.department}\")\n",
        "employee = Employee(\"Anamya\", 20, \"E123\", \"CEO\")\n",
        "employee.display()"
      ],
      "metadata": {
        "colab": {
          "base_uri": "https://localhost:8080/"
        },
        "id": "TioLKiTrOLGi",
        "outputId": "de9a6688-4003-4aa9-ca82-3e4e2a5a0e00"
      },
      "execution_count": 21,
      "outputs": [
        {
          "output_type": "stream",
          "name": "stdout",
          "text": [
            "Name: Anamya, Age: 20, Employee ID: E123, Department: CEO\n"
          ]
        }
      ]
    },
    {
      "cell_type": "code",
      "source": [
        "#Create a class hierarchy for an online shopping system:1)Base Class: Product with attributes like name and price.2)Derived Class: Electronics with attributes like warranty_period.3)Derived Class: Clothing with attributes like size and material.\n",
        "class Product:\n",
        "    def __init__(self, name, price):\n",
        "        self.name = name\n",
        "        self.price = price\n",
        "    def display(self):\n",
        "        print(f\"Product: {self.name}, Price: {self.price}\")\n",
        "class Electronics(Product):\n",
        "    def __init__(self, name, price, warranty_period):\n",
        "        super().__init__(name, price)\n",
        "        self.warranty_period = warranty_period\n",
        "    def display(self):\n",
        "        super().display()\n",
        "        print(f\"Warranty Period: {self.warranty_period} years\")\n",
        "class Clothing(Product):\n",
        "    def __init__(self, name, price, size, material):\n",
        "        super().__init__(name, price)\n",
        "        self.size = size\n",
        "        self.material = material\n",
        "    def display(self):\n",
        "        super().display()\n",
        "        print(f\"Size: {self.size}, Material: {self.material}\")\n",
        "electronic_item = Electronics(\"Laptop\", 80000, 2)\n",
        "clothing_item = Clothing(\"T-Shirt\", 500, \"M\", \"Cotton\")\n",
        "electronic_item.display()\n",
        "clothing_item.display()"
      ],
      "metadata": {
        "colab": {
          "base_uri": "https://localhost:8080/"
        },
        "id": "7iDyF7o5PFmY",
        "outputId": "abce4699-c9b1-4ee4-9119-eb9199def35c"
      },
      "execution_count": 22,
      "outputs": [
        {
          "output_type": "stream",
          "name": "stdout",
          "text": [
            "Product: Laptop, Price: 80000\n",
            "Warranty Period: 2 years\n",
            "Product: T-Shirt, Price: 500\n",
            "Size: M, Material: Cotton\n"
          ]
        }
      ]
    }
  ]
}