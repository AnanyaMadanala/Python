{
  "nbformat": 4,
  "nbformat_minor": 0,
  "metadata": {
    "colab": {
      "provenance": [],
      "authorship_tag": "ABX9TyPDynjEtMcq0LXQ3Bos5jfX",
      "include_colab_link": true
    },
    "kernelspec": {
      "name": "python3",
      "display_name": "Python 3"
    },
    "language_info": {
      "name": "python"
    }
  },
  "cells": [
    {
      "cell_type": "markdown",
      "metadata": {
        "id": "view-in-github",
        "colab_type": "text"
      },
      "source": [
        "<a href=\"https://colab.research.google.com/github/AnanyaMadanala/Python/blob/main/Basic_syntax_nd_Datatype.ipynb\" target=\"_parent\"><img src=\"https://colab.research.google.com/assets/colab-badge.svg\" alt=\"Open In Colab\"/></a>"
      ]
    },
    {
      "cell_type": "code",
      "execution_count": 1,
      "metadata": {
        "colab": {
          "base_uri": "https://localhost:8080/"
        },
        "id": "8v1gpfUU0AwS",
        "outputId": "82602021-eccd-4aa3-bc36-87a58d40ea95"
      },
      "outputs": [
        {
          "output_type": "stream",
          "name": "stdout",
          "text": [
            "Hello Python\n"
          ]
        }
      ],
      "source": [
        "#basic syntax\n",
        "print(\"Hello Python\")"
      ]
    },
    {
      "cell_type": "code",
      "source": [
        "#indentation\n",
        "if 31 > 9:\n",
        "  print(\"31 is greater than 9!\")"
      ],
      "metadata": {
        "colab": {
          "base_uri": "https://localhost:8080/"
        },
        "id": "a7BB8xQt20Ud",
        "outputId": "299f2d6c-d085-414f-fb22-27b7ec63d49a"
      },
      "execution_count": 4,
      "outputs": [
        {
          "output_type": "stream",
          "name": "stdout",
          "text": [
            "31 is greater than 9!\n"
          ]
        }
      ]
    },
    {
      "cell_type": "code",
      "source": [
        "#variable\n",
        "x=319\n",
        "print(x)"
      ],
      "metadata": {
        "colab": {
          "base_uri": "https://localhost:8080/"
        },
        "id": "tkhjUDHQ3i0u",
        "outputId": "1ea43593-bcb1-4100-8769-2dc40f473eeb"
      },
      "execution_count": 5,
      "outputs": [
        {
          "output_type": "stream",
          "name": "stdout",
          "text": [
            "319\n"
          ]
        }
      ]
    },
    {
      "cell_type": "code",
      "source": [
        "#type of data\n",
        "x=319\n",
        "y=\"Anamya\"\n",
        "z=1j\n",
        "print(type(x))\n",
        "print(type(y))\n",
        "print(type(z))"
      ],
      "metadata": {
        "colab": {
          "base_uri": "https://localhost:8080/"
        },
        "id": "pFBy4sKw4Xcm",
        "outputId": "74da70df-ed47-4f9f-a99d-937216bab720"
      },
      "execution_count": 19,
      "outputs": [
        {
          "output_type": "stream",
          "name": "stdout",
          "text": [
            "<class 'int'>\n",
            "<class 'str'>\n",
            "<class 'complex'>\n"
          ]
        }
      ]
    },
    {
      "cell_type": "code",
      "source": [
        "#typecasting\n",
        "x=str(3)\n",
        "y=int(3)\n",
        "z=float(3)\n",
        "print(x)\n",
        "print(y)\n",
        "print(z)"
      ],
      "metadata": {
        "colab": {
          "base_uri": "https://localhost:8080/"
        },
        "id": "4ArpOJGz3oQ0",
        "outputId": "0070cd9b-ffd3-4613-eb9b-0039e809da4f"
      },
      "execution_count": 20,
      "outputs": [
        {
          "output_type": "stream",
          "name": "stdout",
          "text": [
            "3\n",
            "3\n",
            "3.0\n"
          ]
        }
      ]
    },
    {
      "cell_type": "code",
      "source": [
        "#variable name\n",
        "myvar=\"J\"\n",
        "my_var=\"J\"\n",
        "_my_var=\"J\"\n",
        "myVar=\"J\"\n",
        "MYVAR=\"J\"\n",
        "myvar2=\"J\"\n",
        "print(myvar)\n",
        "print(my_var)\n",
        "print(_my_var)\n",
        "print(myVar)\n",
        "print(MYVAR)\n",
        "print(myvar2)"
      ],
      "metadata": {
        "colab": {
          "base_uri": "https://localhost:8080/"
        },
        "id": "kLAg48pA4oSF",
        "outputId": "f8445ca6-3ff9-4113-f5a1-269465dba886"
      },
      "execution_count": 10,
      "outputs": [
        {
          "output_type": "stream",
          "name": "stdout",
          "text": [
            "J\n",
            "J\n",
            "J\n",
            "J\n",
            "J\n",
            "J\n"
          ]
        }
      ]
    },
    {
      "cell_type": "code",
      "source": [
        "#One Value to Multiple Variables\n",
        "x=y=z=\"Anamya\"\n",
        "print(x,y,z)"
      ],
      "metadata": {
        "colab": {
          "base_uri": "https://localhost:8080/"
        },
        "id": "CqN-Del45Ywj",
        "outputId": "d5fe8b46-94e4-4230-a27e-bbc545917d19"
      },
      "execution_count": 11,
      "outputs": [
        {
          "output_type": "stream",
          "name": "stdout",
          "text": [
            "Anamya Anamya Anamya\n"
          ]
        }
      ]
    },
    {
      "cell_type": "code",
      "source": [
        "#Unpack a Collection\n",
        "Codelang=\"C\",\"Java\",\"Python\"\n",
        "Lang=Codelang\n",
        "print(Codelang)"
      ],
      "metadata": {
        "colab": {
          "base_uri": "https://localhost:8080/"
        },
        "id": "Gnq5zk9b5yOC",
        "outputId": "cf04c09f-7697-49cf-d315-af2ae6193282"
      },
      "execution_count": 12,
      "outputs": [
        {
          "output_type": "stream",
          "name": "stdout",
          "text": [
            "('C', 'Java', 'Python')\n"
          ]
        }
      ]
    },
    {
      "cell_type": "code",
      "source": [
        "#global variable\n",
        "x=\"Awesome\"\n",
        "def my_function():\n",
        "  print(\"Coding is \" + x)\n",
        "my_function()"
      ],
      "metadata": {
        "colab": {
          "base_uri": "https://localhost:8080/"
        },
        "id": "QDA_i9HS6JIh",
        "outputId": "b809f9d2-363a-4832-d26b-fc242472a739"
      },
      "execution_count": 16,
      "outputs": [
        {
          "output_type": "stream",
          "name": "stdout",
          "text": [
            "Coding is Awesome\n"
          ]
        }
      ]
    },
    {
      "cell_type": "code",
      "source": [
        "#WAP that declares a variable called age and assigns it the value 25\n",
        "x=25\n",
        "print(x)"
      ],
      "metadata": {
        "colab": {
          "base_uri": "https://localhost:8080/"
        },
        "id": "TyvsaTk761ls",
        "outputId": "50f4bc3e-ea46-406b-8e57-e6677ff09f5f"
      },
      "execution_count": 21,
      "outputs": [
        {
          "output_type": "stream",
          "name": "stdout",
          "text": [
            "25\n"
          ]
        }
      ]
    },
    {
      "cell_type": "code",
      "source": [
        "#WAP of addition of two no\n",
        "x=int(input(\"Enter any no\"))\n",
        "y=int(input(\"Enter any no\"))\n",
        "print(\"Addition is\",x+y)"
      ],
      "metadata": {
        "colab": {
          "base_uri": "https://localhost:8080/"
        },
        "id": "mUT8lQKW9XB7",
        "outputId": "a1a3e610-b8df-4501-94c4-776fae5c7d8f"
      },
      "execution_count": 24,
      "outputs": [
        {
          "output_type": "stream",
          "name": "stdout",
          "text": [
            "Enter any no31\n",
            "Enter any no9\n",
            "Addition is 40\n"
          ]
        }
      ]
    },
    {
      "cell_type": "code",
      "source": [
        "#WAP of defining name is string, height as float, is_student as boolean.Print each variable value its type\n",
        "name=\"Anamya\"\n",
        "height=5.4\n",
        "is_student=True\n",
        "print(name,type(name))\n",
        "print(height,type(height))\n",
        "print(is_student,type(is_student))"
      ],
      "metadata": {
        "colab": {
          "base_uri": "https://localhost:8080/"
        },
        "id": "Yhta0jFx91lI",
        "outputId": "f96e245c-cf16-438c-f01c-5d7e77db4c2e"
      },
      "execution_count": 25,
      "outputs": [
        {
          "output_type": "stream",
          "name": "stdout",
          "text": [
            "Anamya <class 'str'>\n",
            "5.4 <class 'float'>\n",
            "True <class 'bool'>\n"
          ]
        }
      ]
    },
    {
      "cell_type": "code",
      "source": [
        "#WAP that converts int to float nd float to int\n",
        "x=float(31)\n",
        "y=int(9.0)\n",
        "print(x)\n",
        "print(y)"
      ],
      "metadata": {
        "colab": {
          "base_uri": "https://localhost:8080/"
        },
        "id": "kxts0J0U_L9D",
        "outputId": "a83d9c69-da84-4429-e05e-af16c92f277d"
      },
      "execution_count": 27,
      "outputs": [
        {
          "output_type": "stream",
          "name": "stdout",
          "text": [
            "31.0\n",
            "9\n"
          ]
        }
      ]
    },
    {
      "cell_type": "code",
      "source": [
        "#WAP of taking input from user as string nd convert into integer\n",
        "n=input(\"Enter any no\")\n",
        "n=int(n)\n",
        "print(n)"
      ],
      "metadata": {
        "colab": {
          "base_uri": "https://localhost:8080/"
        },
        "id": "dpcWNEOF_xwQ",
        "outputId": "750d0ee7-4df7-4278-d9e2-1a6efb7d9fd2"
      },
      "execution_count": 29,
      "outputs": [
        {
          "output_type": "stream",
          "name": "stdout",
          "text": [
            "Enter any no319\n",
            "319\n"
          ]
        }
      ]
    },
    {
      "cell_type": "code",
      "source": [
        "#WAP that takes user's name as input and prints a greeting message\n",
        "x=\"Anamya!\"\n",
        "def my_function():\n",
        "  print(\"Hello \"+ x)\n",
        "my_function()"
      ],
      "metadata": {
        "colab": {
          "base_uri": "https://localhost:8080/"
        },
        "id": "mXb_TJfSAxAG",
        "outputId": "8fd8778e-7c16-43b8-dac3-de4241e2b193"
      },
      "execution_count": 33,
      "outputs": [
        {
          "output_type": "stream",
          "name": "stdout",
          "text": [
            "Hello Anamya!\n"
          ]
        }
      ]
    },
    {
      "cell_type": "code",
      "source": [],
      "metadata": {
        "id": "d95PzZ2FBXsG"
      },
      "execution_count": null,
      "outputs": []
    }
  ]
}