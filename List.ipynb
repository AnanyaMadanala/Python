{
  "nbformat": 4,
  "nbformat_minor": 0,
  "metadata": {
    "colab": {
      "provenance": [],
      "authorship_tag": "ABX9TyNoROaOOygPIOAPSRjZ3QFa",
      "include_colab_link": true
    },
    "kernelspec": {
      "name": "python3",
      "display_name": "Python 3"
    },
    "language_info": {
      "name": "python"
    }
  },
  "cells": [
    {
      "cell_type": "markdown",
      "metadata": {
        "id": "view-in-github",
        "colab_type": "text"
      },
      "source": [
        "<a href=\"https://colab.research.google.com/github/AnanyaMadanala/Python/blob/main/List.ipynb\" target=\"_parent\"><img src=\"https://colab.research.google.com/assets/colab-badge.svg\" alt=\"Open In Colab\"/></a>"
      ]
    },
    {
      "cell_type": "code",
      "execution_count": null,
      "metadata": {
        "colab": {
          "base_uri": "https://localhost:8080/"
        },
        "id": "4camcYpullLH",
        "outputId": "b3b77a2e-83a5-4f54-d793-cbadb39eca5d"
      },
      "outputs": [
        {
          "output_type": "stream",
          "name": "stdout",
          "text": [
            "['Apple', 'Banana', 'Guava', 'Apple']\n"
          ]
        }
      ],
      "source": [
        "x=[\"Apple\",\"Banana\",\"Guava\",\"Apple\"]\n",
        "print(x)"
      ]
    },
    {
      "cell_type": "code",
      "source": [
        "#a list with strings,int,boolean\n",
        "x=[\"Hello\",1,True]\n",
        "print(x)"
      ],
      "metadata": {
        "colab": {
          "base_uri": "https://localhost:8080/"
        },
        "id": "EfkO_hBsl-Ys",
        "outputId": "e40c2a5a-f1c5-4110-a10b-4277ed4b986f"
      },
      "execution_count": null,
      "outputs": [
        {
          "output_type": "stream",
          "name": "stdout",
          "text": [
            "['Hello', 1, True]\n"
          ]
        }
      ]
    },
    {
      "cell_type": "code",
      "source": [
        "#list constructor\n",
        "x=((\"Hello\",1,True))\n",
        "print(x)"
      ],
      "metadata": {
        "colab": {
          "base_uri": "https://localhost:8080/"
        },
        "id": "2jjtM91amQqe",
        "outputId": "f257c3b0-8ab3-4d4a-b77c-a7d97afd6071"
      },
      "execution_count": null,
      "outputs": [
        {
          "output_type": "stream",
          "name": "stdout",
          "text": [
            "('Hello', 1, True)\n"
          ]
        }
      ]
    },
    {
      "cell_type": "code",
      "source": [
        "#how to access item\n",
        "x=[\"Apple\",\"Banana\",\"Guava\",\"Apple\"]\n",
        "print(x[1])"
      ],
      "metadata": {
        "colab": {
          "base_uri": "https://localhost:8080/"
        },
        "id": "ZPHZ7YJ8mYr8",
        "outputId": "f3c7fd16-f8d0-45e3-ac39-2f83187f495d"
      },
      "execution_count": null,
      "outputs": [
        {
          "output_type": "stream",
          "name": "stdout",
          "text": [
            "Banana\n"
          ]
        }
      ]
    },
    {
      "cell_type": "code",
      "source": [
        "#range of indexes\n",
        "x=[\"Apple\",\"Banana\",\"Guava\",\"Apple\"]\n",
        "print(x[2:3])"
      ],
      "metadata": {
        "colab": {
          "base_uri": "https://localhost:8080/"
        },
        "id": "_jf-TCUVmib2",
        "outputId": "02589af4-24f9-46e3-9e2d-2ddf9ecf9b3b"
      },
      "execution_count": null,
      "outputs": [
        {
          "output_type": "stream",
          "name": "stdout",
          "text": [
            "['Guava']\n"
          ]
        }
      ]
    },
    {
      "cell_type": "code",
      "source": [
        "#negative indexing\n",
        "x=[\"apple\",\"banana\",\"orange\",\"guava\",\"strawberry\"]\n",
        "print(x[-1])"
      ],
      "metadata": {
        "colab": {
          "base_uri": "https://localhost:8080/"
        },
        "id": "06y8ku6kmmfi",
        "outputId": "83293f97-a068-47e7-ecb0-fec2034355f6"
      },
      "execution_count": null,
      "outputs": [
        {
          "output_type": "stream",
          "name": "stdout",
          "text": [
            "strawberry\n"
          ]
        }
      ]
    },
    {
      "cell_type": "code",
      "source": [
        "#how to check if item exist in list\n",
        "x=[\"apple\",\"banana\",\"orange\",\"guava\",\"strawberry\"]\n",
        "if \"apple\" in x:\n",
        "    print(\"Yes, 'apple' is in list\")"
      ],
      "metadata": {
        "colab": {
          "base_uri": "https://localhost:8080/"
        },
        "id": "2TGLxk0ymtcy",
        "outputId": "8470cfb1-ff95-4efc-c459-d1dc867ab791"
      },
      "execution_count": null,
      "outputs": [
        {
          "output_type": "stream",
          "name": "stdout",
          "text": [
            "Yes, 'apple' is in list\n"
          ]
        }
      ]
    },
    {
      "cell_type": "code",
      "source": [
        "#check is its there or not\n",
        "s={\"a\",\"b\",\"c\"}\n",
        "print(\"a\" in s)"
      ],
      "metadata": {
        "colab": {
          "base_uri": "https://localhost:8080/"
        },
        "id": "I_kAIIhMm18P",
        "outputId": "eb651b69-a44e-46a2-c864-d20ce96884a6"
      },
      "execution_count": null,
      "outputs": [
        {
          "output_type": "stream",
          "name": "stdout",
          "text": [
            "True\n"
          ]
        }
      ]
    },
    {
      "cell_type": "code",
      "source": [
        "#append\n",
        "x=[\"apple\",\"banana\",\"orange\",\"guava\",\"strawberry\"]\n",
        "x.append(\"cherry\")\n",
        "print(x)"
      ],
      "metadata": {
        "colab": {
          "base_uri": "https://localhost:8080/"
        },
        "id": "xmLhUPQkpMNq",
        "outputId": "72442639-9479-4109-8155-aead6734a49c"
      },
      "execution_count": null,
      "outputs": [
        {
          "output_type": "stream",
          "name": "stdout",
          "text": [
            "['apple', 'banana', 'orange', 'guava', 'strawberry', 'cherry']\n"
          ]
        }
      ]
    },
    {
      "cell_type": "code",
      "source": [
        "#insert\n",
        "x=[\"apple\",\"banana\",\"orange\",\"guava\",\"strawberry\"]\n",
        "x.insert(1,\"cherry\")\n",
        "print(x)"
      ],
      "metadata": {
        "colab": {
          "base_uri": "https://localhost:8080/"
        },
        "id": "9yR2MUZCpU7i",
        "outputId": "61b64714-416d-4d07-b912-430a44bf3af3"
      },
      "execution_count": null,
      "outputs": [
        {
          "output_type": "stream",
          "name": "stdout",
          "text": [
            "['apple', 'cherry', 'banana', 'orange', 'guava', 'strawberry']\n"
          ]
        }
      ]
    },
    {
      "cell_type": "code",
      "source": [
        "#extend\n",
        "x=[1,2,3]\n",
        "y=[4,5,6]\n",
        "x.extend(y)\n",
        "print(x)"
      ],
      "metadata": {
        "colab": {
          "base_uri": "https://localhost:8080/"
        },
        "id": "vx0QCqjZpeEe",
        "outputId": "d3ad0015-5eb9-494a-990f-677126058562"
      },
      "execution_count": null,
      "outputs": [
        {
          "output_type": "stream",
          "name": "stdout",
          "text": [
            "[1, 2, 3, 4, 5, 6]\n"
          ]
        }
      ]
    },
    {
      "cell_type": "code",
      "source": [
        "#remove\n",
        "x=[1,2,3]\n",
        "x.remove(2)\n",
        "print(x)"
      ],
      "metadata": {
        "colab": {
          "base_uri": "https://localhost:8080/"
        },
        "id": "_-sPEqSypl5Q",
        "outputId": "178a6ff0-8016-4973-9f9e-8c78783d9008"
      },
      "execution_count": null,
      "outputs": [
        {
          "output_type": "stream",
          "name": "stdout",
          "text": [
            "[1, 3]\n"
          ]
        }
      ]
    },
    {
      "cell_type": "code",
      "source": [
        "#clear the list method\n",
        "x=[1,2,3]\n",
        "x.clear()\n",
        "print(x)"
      ],
      "metadata": {
        "colab": {
          "base_uri": "https://localhost:8080/"
        },
        "id": "3CR94hZ9pr5r",
        "outputId": "2c5b9e89-39b2-44ce-b71e-e5d53a5117fb"
      },
      "execution_count": null,
      "outputs": [
        {
          "output_type": "stream",
          "name": "stdout",
          "text": [
            "[]\n"
          ]
        }
      ]
    },
    {
      "cell_type": "code",
      "source": [
        "#sorting in descending order\n",
        "x=[\"apple\",\"banana\",\"orange\",\"guava\",\"strawberry\"]\n",
        "x.sort()\n",
        "print(x)"
      ],
      "metadata": {
        "colab": {
          "base_uri": "https://localhost:8080/"
        },
        "id": "YU37CJyIp3fz",
        "outputId": "c0275262-9c3f-4a41-97a6-7eb024b92a0b"
      },
      "execution_count": null,
      "outputs": [
        {
          "output_type": "stream",
          "name": "stdout",
          "text": [
            "['apple', 'banana', 'guava', 'orange', 'strawberry']\n"
          ]
        }
      ]
    },
    {
      "cell_type": "code",
      "source": [
        "#copy list\n",
        "x=[\"apple\",\"banana\",\"orange\",\"guava\",\"strawberry\"]\n",
        "y=list(x)\n",
        "print(x)"
      ],
      "metadata": {
        "colab": {
          "base_uri": "https://localhost:8080/"
        },
        "id": "XZ9uhlVSp9SV",
        "outputId": "c50a2e84-5b51-4f58-8b27-4aabf1551949"
      },
      "execution_count": null,
      "outputs": [
        {
          "output_type": "stream",
          "name": "stdout",
          "text": [
            "['apple', 'banana', 'orange', 'guava', 'strawberry']\n"
          ]
        }
      ]
    }
  ]
}