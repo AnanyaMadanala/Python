{
  "nbformat": 4,
  "nbformat_minor": 0,
  "metadata": {
    "colab": {
      "provenance": [],
      "authorship_tag": "ABX9TyOSarCBsLnh12rLQr568B8F",
      "include_colab_link": true
    },
    "kernelspec": {
      "name": "python3",
      "display_name": "Python 3"
    },
    "language_info": {
      "name": "python"
    }
  },
  "cells": [
    {
      "cell_type": "markdown",
      "metadata": {
        "id": "view-in-github",
        "colab_type": "text"
      },
      "source": [
        "<a href=\"https://colab.research.google.com/github/AnanyaMadanala/Python/blob/main/ControlFlow.ipynb\" target=\"_parent\"><img src=\"https://colab.research.google.com/assets/colab-badge.svg\" alt=\"Open In Colab\"/></a>"
      ]
    },
    {
      "cell_type": "code",
      "execution_count": 3,
      "metadata": {
        "colab": {
          "base_uri": "https://localhost:8080/"
        },
        "id": "CLct94uE_7c_",
        "outputId": "9a573f71-d200-4037-80d0-6fb13a897911"
      },
      "outputs": [
        {
          "output_type": "stream",
          "name": "stdout",
          "text": [
            "Enter any no43\n",
            "Thanks\n"
          ]
        }
      ],
      "source": [
        "#if statement\n",
        "n=int(input(\"Enter any no\"))\n",
        "if(n>50):\n",
        "  print(\"Hello Python\")\n",
        "print(\"Thanks\")"
      ]
    },
    {
      "cell_type": "code",
      "source": [
        "#else if statement\n",
        "n=int(input(\"Enter any no\"))\n",
        "if(n>319): print(\"Greater no\")\n",
        "else: print(\"Smaller no\")"
      ],
      "metadata": {
        "colab": {
          "base_uri": "https://localhost:8080/"
        },
        "id": "u6WGj2FrBxYM",
        "outputId": "43dfe2db-d550-47f1-fdde-81281ef681f3"
      },
      "execution_count": 6,
      "outputs": [
        {
          "output_type": "stream",
          "name": "stdout",
          "text": [
            "Enter any no931\n",
            "Greater no\n"
          ]
        }
      ]
    },
    {
      "cell_type": "code",
      "source": [
        "#elif statement\n",
        "a=int(input(\"Enter any no\"))\n",
        "b=int(input(\"Enter any other no\"))\n",
        "if a>b: print(\"a is greater than b\")\n",
        "elif b>a: print(\"b is greater than a\")\n",
        "else: print(\"Invalid no\")"
      ],
      "metadata": {
        "colab": {
          "base_uri": "https://localhost:8080/"
        },
        "id": "ouoIp1fJFBtW",
        "outputId": "ae5881a2-ccf9-4aa8-c9a1-6493de72861c"
      },
      "execution_count": 7,
      "outputs": [
        {
          "output_type": "stream",
          "name": "stdout",
          "text": [
            "Enter any no31\n",
            "Enter any other no9\n",
            "a is greater than b\n"
          ]
        }
      ]
    },
    {
      "cell_type": "code",
      "source": [
        "#nested if\n",
        "x = 41\n",
        "if x>10:\n",
        "  print(\"Above ten,\")\n",
        "  if x>20:\n",
        "    print(\"and also above 20!\")\n",
        "  else:\n",
        "    print(\"but not above 20.\")"
      ],
      "metadata": {
        "colab": {
          "base_uri": "https://localhost:8080/"
        },
        "id": "n86gx3P9HhTp",
        "outputId": "103e6db3-024d-4b49-8b10-e8192c464ae9"
      },
      "execution_count": 8,
      "outputs": [
        {
          "output_type": "stream",
          "name": "stdout",
          "text": [
            "Above ten,\n",
            "and also above 20!\n"
          ]
        }
      ]
    },
    {
      "cell_type": "code",
      "source": [
        "#and\n",
        "a=200\n",
        "b=33\n",
        "c=500\n",
        "if a>b and c>a: print(\"Both conditions are True\")"
      ],
      "metadata": {
        "colab": {
          "base_uri": "https://localhost:8080/"
        },
        "id": "jAOee1ohIJL_",
        "outputId": "fd2ad2a6-4a8a-43da-c065-e4b905bd00fa"
      },
      "execution_count": 9,
      "outputs": [
        {
          "output_type": "stream",
          "name": "stdout",
          "text": [
            "Both conditions are True\n"
          ]
        }
      ]
    },
    {
      "cell_type": "code",
      "source": [
        "#or\n",
        "a=200\n",
        "b=33\n",
        "c=500\n",
        "if a>b or a>c: print(\"At least one of the conditions is True\")"
      ],
      "metadata": {
        "colab": {
          "base_uri": "https://localhost:8080/"
        },
        "id": "8TnP1vznIddF",
        "outputId": "6b57c3d7-6c98-4bfc-efbe-81865d1b1d6e"
      },
      "execution_count": 10,
      "outputs": [
        {
          "output_type": "stream",
          "name": "stdout",
          "text": [
            "At least one of the conditions is True\n"
          ]
        }
      ]
    },
    {
      "cell_type": "code",
      "source": [
        "#not\n",
        "a=33\n",
        "b=200\n",
        "if not a>b: print(\"a is NOT greater than b\")"
      ],
      "metadata": {
        "colab": {
          "base_uri": "https://localhost:8080/"
        },
        "id": "LrFD-eWVIqZF",
        "outputId": "07ea377d-126a-4f4f-e08e-a10e83c07df0"
      },
      "execution_count": 11,
      "outputs": [
        {
          "output_type": "stream",
          "name": "stdout",
          "text": [
            "a is NOT greater than b\n"
          ]
        }
      ]
    },
    {
      "cell_type": "code",
      "source": [
        "#for loop\n",
        "for i  in range(10):\n",
        "  print(i)"
      ],
      "metadata": {
        "colab": {
          "base_uri": "https://localhost:8080/"
        },
        "id": "P6pxw1jpYIVq",
        "outputId": "aed6efd8-2866-4b1d-ad29-4302ac3bf2e5"
      },
      "execution_count": 24,
      "outputs": [
        {
          "output_type": "stream",
          "name": "stdout",
          "text": [
            "0\n",
            "1\n",
            "2\n",
            "3\n",
            "4\n",
            "5\n",
            "6\n",
            "7\n",
            "8\n",
            "9\n"
          ]
        }
      ]
    },
    {
      "cell_type": "code",
      "source": [
        "#while\n",
        "i=1\n",
        "while(i<=10):\n",
        "    print(i)\n",
        "    i+=1\n"
      ],
      "metadata": {
        "colab": {
          "base_uri": "https://localhost:8080/"
        },
        "id": "s2QBnOsTYcRS",
        "outputId": "dafedfe9-40f7-4196-865a-8ea22863f8b3"
      },
      "execution_count": 33,
      "outputs": [
        {
          "output_type": "stream",
          "name": "stdout",
          "text": [
            "1\n",
            "2\n",
            "3\n",
            "4\n",
            "5\n",
            "6\n",
            "7\n",
            "8\n",
            "9\n",
            "10\n"
          ]
        }
      ]
    },
    {
      "cell_type": "code",
      "source": [
        "#WAP of grade checker\n",
        "n=int(input(\"Enter any no\"))\n",
        "if n>90: print(\"Grade A\")\n",
        "elif n>80 and n<=89: print(\"Grade B\")\n",
        "elif n>79 and n<=79: print(\"Grade C\")\n",
        "elif n>60 and n<=69: print(\"Grade D\")\n",
        "else: print(\"Grade F\")"
      ],
      "metadata": {
        "colab": {
          "base_uri": "https://localhost:8080/"
        },
        "id": "80cfZh_pI91b",
        "outputId": "9f07b7a2-95b1-49a3-c03c-5691c57c4413"
      },
      "execution_count": 15,
      "outputs": [
        {
          "output_type": "stream",
          "name": "stdout",
          "text": [
            "Enter any no97\n",
            "Grade A\n"
          ]
        }
      ]
    },
    {
      "cell_type": "code",
      "source": [
        "#WAP of +ve,-ve,zero\n",
        "n=int(input(\"Enter any no\"))\n",
        "if n<0: print(\"Negative no\")\n",
        "elif n>0: print(\"Positive no\")\n",
        "else: print(\"Its zero\")"
      ],
      "metadata": {
        "colab": {
          "base_uri": "https://localhost:8080/"
        },
        "id": "5UQbKxCtLYQg",
        "outputId": "60f1cfe2-d6e9-4de5-e648-8537e127e1af"
      },
      "execution_count": 16,
      "outputs": [
        {
          "output_type": "stream",
          "name": "stdout",
          "text": [
            "Enter any no319\n",
            "Positive no\n"
          ]
        }
      ]
    },
    {
      "cell_type": "code",
      "source": [
        "#WAP of FizzBuzz that prints numbers from 1 to 50(multiple of 3-Fizz and multiple of 5-Buzz, combination of both add FizzBuzz)\n",
        "n=int(input(\"Enter any no\"))\n",
        "if n>1 and n<50:\n",
        "  if n%3==0 and n%5==0: print(\"FizzBuzz\")\n",
        "  elif n%3==0: print(\"Fizz\")\n",
        "  elif n%5==0: print(\"Buzz\")\n",
        "  else: print(\"No isn't divisible by 3 nd 5\")\n",
        "else: print(\"Out of range(1-50)\")"
      ],
      "metadata": {
        "colab": {
          "base_uri": "https://localhost:8080/"
        },
        "id": "HdHaU1JiPL4B",
        "outputId": "e76983d3-26a5-496f-84ca-a8f5c3e3b9ea"
      },
      "execution_count": 21,
      "outputs": [
        {
          "output_type": "stream",
          "name": "stdout",
          "text": [
            "Enter any no31\n",
            "No isn't divisible by 3 nd 5\n"
          ]
        }
      ]
    },
    {
      "cell_type": "code",
      "source": [
        "#WAP of Bank deposit\n",
        "correct_pin = 3190\n",
        "balance = 5000\n",
        "pin=int(input(\"Enter your PIN: \"))\n",
        "if pin==correct_pin:\n",
        "    print(\"PIN verified successfully!\")\n",
        "    amount=int(input(\"Enter the amount to withdraw: \"))\n",
        "    if amount<=balance:\n",
        "        balance-=amount\n",
        "        print(f\"Withdrawal successful! Remaining balance: ₹{balance}\")\n",
        "    else:\n",
        "        print(\"Insufficient balance!\")\n",
        "elif len(str(pin))!=4:\n",
        "    print(\"Invalid PIN format. Please enter a 4-digit PIN.\")\n",
        "else:\n",
        "    print(\"Incorrect PIN. Please try again.\")"
      ],
      "metadata": {
        "colab": {
          "base_uri": "https://localhost:8080/"
        },
        "id": "kXaJpkXBTrpF",
        "outputId": "f232aa77-ca1f-48d2-b70b-22380f7b80af"
      },
      "execution_count": 23,
      "outputs": [
        {
          "output_type": "stream",
          "name": "stdout",
          "text": [
            "Enter your PIN: 3190\n",
            "PIN verified successfully!\n",
            "Enter the amount to withdraw: 40000\n",
            "Insufficient balance!\n"
          ]
        }
      ]
    },
    {
      "cell_type": "code",
      "source": [
        "#WAP of even no\n",
        "s=int(input(\"Enter the starting number: \"))\n",
        "e=int(input(\"Enter the ending number: \"))\n",
        "print(f\"Even numbers between {s} and {e} are:\")\n",
        "for num in range(s,e+1):\n",
        "    if num%2==0:\n",
        "        print(num)"
      ],
      "metadata": {
        "colab": {
          "base_uri": "https://localhost:8080/"
        },
        "id": "C6mfdwtSaaq4",
        "outputId": "8a7b82f9-f69b-4953-c359-97ea776223c0"
      },
      "execution_count": 35,
      "outputs": [
        {
          "output_type": "stream",
          "name": "stdout",
          "text": [
            "Enter the starting number: 1\n",
            "Enter the ending number: 31\n",
            "Even numbers between 1 and 31 are:\n",
            "2\n",
            "4\n",
            "6\n",
            "8\n",
            "10\n",
            "12\n",
            "14\n",
            "16\n",
            "18\n",
            "20\n",
            "22\n",
            "24\n",
            "26\n",
            "28\n",
            "30\n"
          ]
        }
      ]
    },
    {
      "cell_type": "code",
      "source": [
        "#armstrom no\n",
        "n=int(input(\"Enter any no\"))\n",
        "m=n\n",
        "s=0\n",
        "while(n!=0):\n",
        "  r=n%10\n",
        "  s=s+(r*r*r)\n",
        "  n=n/10\n",
        "print(\"Armstrom no\") if m==s else print(\"Not a armstrom no\")"
      ],
      "metadata": {
        "colab": {
          "base_uri": "https://localhost:8080/"
        },
        "id": "aqHuyqbBdKEF",
        "outputId": "a5b6bb99-78af-4b65-edea-b8aac1c4bdc6"
      },
      "execution_count": 39,
      "outputs": [
        {
          "output_type": "stream",
          "name": "stdout",
          "text": [
            "Enter any no153\n",
            "Not a armstrom no\n"
          ]
        }
      ]
    },
    {
      "cell_type": "code",
      "source": [
        "#WAP of star pyramid\n",
        "n = 5\n",
        "for i in range(1, n + 1):\n",
        "    for j in range(n - i):\n",
        "        print(\" \", end=\"\")\n",
        "    for k in range(2 * i - 1):\n",
        "        print(\"*\", end=\"\")\n",
        "    print()"
      ],
      "metadata": {
        "colab": {
          "base_uri": "https://localhost:8080/"
        },
        "id": "x969xpDLd4ZT",
        "outputId": "373aa4ad-371c-4029-cea3-2778aa749c7d"
      },
      "execution_count": 38,
      "outputs": [
        {
          "output_type": "stream",
          "name": "stdout",
          "text": [
            "    *\n",
            "   ***\n",
            "  *****\n",
            " *******\n",
            "*********\n"
          ]
        }
      ]
    },
    {
      "cell_type": "code",
      "source": [
        "#WAP to find the sum of digits of a number using a loop.\n",
        "number = 123\n",
        "num_str = str(number)\n",
        "total_sum = 0\n",
        "for digit in num_str:\n",
        "    total_sum += int(digit)\n",
        "print(f\"{number} = {' + '.join(num_str)} = {total_sum}\")"
      ],
      "metadata": {
        "colab": {
          "base_uri": "https://localhost:8080/"
        },
        "id": "AmtVIWDFwB6S",
        "outputId": "b33378d4-c4b2-4db0-bc2d-057ecb82f92f"
      },
      "execution_count": 40,
      "outputs": [
        {
          "output_type": "stream",
          "name": "stdout",
          "text": [
            "123 = 1 + 2 + 3 = 6\n"
          ]
        }
      ]
    },
    {
      "cell_type": "code",
      "source": [
        "#Write a program to reverse a list using a for loop\n",
        "original_list = [1, 2, 3, 4, 5]\n",
        "reversed_list = []\n",
        "for i in range(len(original_list)-1, -1, -1):\n",
        "    reversed_list.append(original_list[i])\n",
        "print(\"Original list:\", original_list)\n",
        "print(\"Reversed list:\", reversed_list)\n"
      ],
      "metadata": {
        "colab": {
          "base_uri": "https://localhost:8080/"
        },
        "id": "vS-rXlbMycss",
        "outputId": "5cc0b4dc-b51d-4018-af83-94c3d08aabf5"
      },
      "execution_count": 41,
      "outputs": [
        {
          "output_type": "stream",
          "name": "stdout",
          "text": [
            "Original list: [1, 2, 3, 4, 5]\n",
            "Reversed list: [5, 4, 3, 2, 1]\n"
          ]
        }
      ]
    },
    {
      "cell_type": "code",
      "source": [
        "#WAP of factorial of a no using while loop\n",
        "no=5\n",
        "factorial=1\n",
        "counter=no\n",
        "while counter>0:\n",
        "    factorial*=counter\n",
        "    counter-=1\n",
        "print(f\"The factorial of {no} is {factorial}\")"
      ],
      "metadata": {
        "colab": {
          "base_uri": "https://localhost:8080/"
        },
        "id": "cjErTDb2y5QS",
        "outputId": "e8a26607-b59d-49ea-c5eb-de50941a4468"
      },
      "execution_count": 42,
      "outputs": [
        {
          "output_type": "stream",
          "name": "stdout",
          "text": [
            "The factorial of 5 is 120\n"
          ]
        }
      ]
    }
  ]
}